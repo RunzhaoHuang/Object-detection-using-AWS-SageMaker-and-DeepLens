{
 "cells": [
  {
   "cell_type": "markdown",
   "metadata": {},
   "source": [
    "# Identifying one object (fish) using Amazon SageMaker \n",
    "\n",
    "### Table of contents\n",
    "1. [Introduction to dataset](#introduction)\n",
    "2. [Labeling with Amazon SageMaker Ground Truth](#groundtruth)\n",
    "3. [Reviewing labeling results](#review)\n",
    "4. [Training an Object Detection model](#training)\n",
    "5. [Review of Training Results](#review_training)\n",
    "6. [Model Tuning](#model_tuning)\n",
    "7. [Cleanup](#cleanup)\n"
   ]
  },
  {
   "cell_type": "markdown",
   "metadata": {},
   "source": [
    "<a name=\"introduction\"></a>\n",
    "## Download and upload dataset\n",
    "\n",
    "First off, download the dataset from whatever where.\n",
    "\n",
    "Manually upload <-your-dataset-name->.zip into your jupyter nodebook instance.\n",
    "\n",
    "Then unzip it with the following code."
   ]
  },
  {
   "cell_type": "code",
   "execution_count": 2,
   "metadata": {},
   "outputs": [
    {
     "name": "stdout",
     "output_type": "stream",
     "text": [
      "Archive:  ./fish.zip\n",
      "   creating: ./fish/\n",
      "  inflating: ./fish/fish1.jpg        \n",
      "  inflating: ./fish/fish1000.jpg     \n",
      "  inflating: ./fish/fish1001.jpg     \n",
      "  inflating: ./fish/fish1006.jpg     \n",
      "  inflating: ./fish/fish1008.jpg     \n",
      "  inflating: ./fish/fish1009.jpg     \n",
      "  inflating: ./fish/fish1011.jpg     \n",
      "  inflating: ./fish/fish1014.jpg     \n",
      "  inflating: ./fish/fish1016.jpg     \n",
      "  inflating: ./fish/fish1017.jpg     \n",
      "  inflating: ./fish/fish102.jpg      \n",
      "  inflating: ./fish/fish1022.jpg     \n",
      "  inflating: ./fish/fish1024.jpg     \n",
      "  inflating: ./fish/fish1025.jpg     \n",
      "  inflating: ./fish/fish1027.jpg     \n",
      "  inflating: ./fish/fish1030.jpg     \n",
      "  inflating: ./fish/fish1032.jpg     \n",
      "  inflating: ./fish/fish1033.jpg     \n",
      "  inflating: ./fish/fish1038.jpg     \n",
      "  inflating: ./fish/fish104.jpg      \n",
      "  inflating: ./fish/fish1040.jpg     \n",
      "  inflating: ./fish/fish1041.jpg     \n",
      "  inflating: ./fish/fish1043.jpg     \n",
      "  inflating: ./fish/fish1046.jpg     \n",
      "  inflating: ./fish/fish1048.jpg     \n",
      "  inflating: ./fish/fish1049.jpg     \n",
      "  inflating: ./fish/fish105.jpg      \n",
      "  inflating: ./fish/fish1054.jpg     \n",
      "  inflating: ./fish/fish1056.jpg     \n",
      "  inflating: ./fish/fish1057.jpg     \n",
      "  inflating: ./fish/fish1059.jpg     \n",
      "  inflating: ./fish/fish1062.jpg     \n",
      "  inflating: ./fish/fish1064.jpg     \n",
      "  inflating: ./fish/fish1065.jpg     \n",
      "  inflating: ./fish/fish1070.jpg     \n",
      "  inflating: ./fish/fish1072.jpg     \n",
      "  inflating: ./fish/fish1073.jpg     \n",
      "  inflating: ./fish/fish1075.jpg     \n",
      "  inflating: ./fish/fish1078.jpg     \n",
      "  inflating: ./fish/fish1080.jpg     \n",
      "  inflating: ./fish/fish1081.jpg     \n",
      "  inflating: ./fish/fish1086.jpg     \n",
      "  inflating: ./fish/fish1088.jpg     \n",
      "  inflating: ./fish/fish1089.jpg     \n",
      "  inflating: ./fish/fish1091.jpg     \n",
      "  inflating: ./fish/fish1094.jpg     \n",
      "  inflating: ./fish/fish1096.jpg     \n",
      "  inflating: ./fish/fish1097.jpg     \n",
      "  inflating: ./fish/fish110.jpg      \n",
      "  inflating: ./fish/fish1102.jpg     \n",
      "  inflating: ./fish/fish1104.jpg     \n",
      "  inflating: ./fish/fish1105.jpg     \n",
      "  inflating: ./fish/fish1107.jpg     \n",
      "  inflating: ./fish/fish1110.jpg     \n",
      "  inflating: ./fish/fish1112.jpg     \n",
      "  inflating: ./fish/fish1113.jpg     \n",
      "  inflating: ./fish/fish1118.jpg     \n",
      "  inflating: ./fish/fish112.jpg      \n",
      "  inflating: ./fish/fish1120.jpg     \n",
      "  inflating: ./fish/fish1121.jpg     \n",
      "  inflating: ./fish/fish1123.jpg     \n",
      "  inflating: ./fish/fish1126.jpg     \n",
      "  inflating: ./fish/fish1128.jpg     \n",
      "  inflating: ./fish/fish1129.jpg     \n",
      "  inflating: ./fish/fish113.jpg      \n",
      "  inflating: ./fish/fish1134.jpg     \n",
      "  inflating: ./fish/fish1136.jpg     \n",
      "  inflating: ./fish/fish1137.jpg     \n",
      "  inflating: ./fish/fish1139.jpg     \n",
      "  inflating: ./fish/fish1142.jpg     \n",
      "  inflating: ./fish/fish1144.jpg     \n",
      "  inflating: ./fish/fish1145.jpg     \n",
      "  inflating: ./fish/fish115.jpg      \n",
      "  inflating: ./fish/fish1150.jpg     \n",
      "  inflating: ./fish/fish1152.jpg     \n",
      "  inflating: ./fish/fish1153.jpg     \n",
      "  inflating: ./fish/fish1155.jpg     \n",
      "  inflating: ./fish/fish1158.jpg     \n",
      "  inflating: ./fish/fish1160.jpg     \n",
      "  inflating: ./fish/fish1161.jpg     \n",
      "  inflating: ./fish/fish1166.jpg     \n",
      "  inflating: ./fish/fish1168.jpg     \n",
      "  inflating: ./fish/fish1169.jpg     \n",
      "  inflating: ./fish/fish1171.jpg     \n",
      "  inflating: ./fish/fish1174.jpg     \n",
      "  inflating: ./fish/fish1176.jpg     \n",
      "  inflating: ./fish/fish1177.jpg     \n",
      "  inflating: ./fish/fish118.jpg      \n",
      "  inflating: ./fish/fish1182.jpg     \n",
      "  inflating: ./fish/fish1184.jpg     \n",
      "  inflating: ./fish/fish1185.jpg     \n",
      "  inflating: ./fish/fish1187.jpg     \n",
      "  inflating: ./fish/fish1190.jpg     \n",
      "  inflating: ./fish/fish1192.jpg     \n",
      "  inflating: ./fish/fish1193.jpg     \n",
      "  inflating: ./fish/fish1198.jpg     \n",
      "  inflating: ./fish/fish120.jpg      \n",
      "  inflating: ./fish/fish1200.jpg     \n",
      "  inflating: ./fish/fish1201.jpg     \n",
      "  inflating: ./fish/fish1203.jpg     \n",
      "  inflating: ./fish/fish1206.jpg     \n",
      "  inflating: ./fish/fish1208.jpg     \n",
      "  inflating: ./fish/fish1209.jpg     \n",
      "  inflating: ./fish/fish121.jpg      \n",
      "  inflating: ./fish/fish1214.jpg     \n",
      "  inflating: ./fish/fish1216.jpg     \n",
      "  inflating: ./fish/fish1217.jpg     \n",
      "  inflating: ./fish/fish1219.jpg     \n",
      "  inflating: ./fish/fish1222.jpg     \n",
      "  inflating: ./fish/fish1224.jpg     \n",
      "  inflating: ./fish/fish1225.jpg     \n",
      "  inflating: ./fish/fish1230.jpg     \n",
      "  inflating: ./fish/fish1232.jpg     \n",
      "  inflating: ./fish/fish1233.jpg     \n",
      "  inflating: ./fish/fish1235.jpg     \n",
      "  inflating: ./fish/fish1238.jpg     \n",
      "  inflating: ./fish/fish1240.jpg     \n",
      "  inflating: ./fish/fish1241.jpg     \n",
      "  inflating: ./fish/fish1246.jpg     \n",
      "  inflating: ./fish/fish1248.jpg     \n",
      "  inflating: ./fish/fish1249.jpg     \n",
      "  inflating: ./fish/fish1251.jpg     \n",
      "  inflating: ./fish/fish1254.jpg     \n",
      "  inflating: ./fish/fish1256.jpg     \n",
      "  inflating: ./fish/fish1257.jpg     \n",
      "  inflating: ./fish/fish126.jpg      \n",
      "  inflating: ./fish/fish1262.jpg     \n",
      "  inflating: ./fish/fish1264.jpg     \n",
      "  inflating: ./fish/fish1265.jpg     \n",
      "  inflating: ./fish/fish1267.jpg     \n",
      "  inflating: ./fish/fish1270.jpg     \n",
      "  inflating: ./fish/fish1272.jpg     \n",
      "  inflating: ./fish/fish1273.jpg     \n",
      "  inflating: ./fish/fish1278.jpg     \n",
      "  inflating: ./fish/fish128.jpg      \n",
      "  inflating: ./fish/fish1280.jpg     \n",
      "  inflating: ./fish/fish1281.jpg     \n",
      "  inflating: ./fish/fish1283.jpg     \n",
      "  inflating: ./fish/fish1286.jpg     \n",
      "  inflating: ./fish/fish1288.jpg     \n",
      "  inflating: ./fish/fish1289.jpg     \n",
      "  inflating: ./fish/fish129.jpg      \n",
      "  inflating: ./fish/fish1294.jpg     \n",
      "  inflating: ./fish/fish1296.jpg     \n",
      "  inflating: ./fish/fish1297.jpg     \n",
      "  inflating: ./fish/fish1299.jpg     \n",
      "  inflating: ./fish/fish1302.jpg     \n",
      "  inflating: ./fish/fish1304.jpg     \n",
      "  inflating: ./fish/fish1305.jpg     \n",
      "  inflating: ./fish/fish131.jpg      \n",
      "  inflating: ./fish/fish1310.jpg     \n",
      "  inflating: ./fish/fish1312.jpg     \n",
      "  inflating: ./fish/fish1313.jpg     \n",
      "  inflating: ./fish/fish1315.jpg     \n",
      "  inflating: ./fish/fish1318.jpg     \n",
      "  inflating: ./fish/fish1320.jpg     \n",
      "  inflating: ./fish/fish1321.jpg     \n",
      "  inflating: ./fish/fish1326.jpg     \n",
      "  inflating: ./fish/fish1328.jpg     \n",
      "  inflating: ./fish/fish1329.jpg     \n",
      "  inflating: ./fish/fish1331.jpg     \n",
      "  inflating: ./fish/fish1334.jpg     \n",
      "  inflating: ./fish/fish1336.jpg     \n",
      "  inflating: ./fish/fish1337.jpg     \n",
      "  inflating: ./fish/fish134.jpg      \n",
      "  inflating: ./fish/fish1342.jpg     \n",
      "  inflating: ./fish/fish1344.jpg     \n",
      "  inflating: ./fish/fish1345.jpg     \n",
      "  inflating: ./fish/fish1347.jpg     \n",
      "  inflating: ./fish/fish1350.jpg     \n",
      "  inflating: ./fish/fish1352.jpg     \n",
      "  inflating: ./fish/fish1353.jpg     \n",
      "  inflating: ./fish/fish1358.jpg     \n",
      "  inflating: ./fish/fish136.jpg      \n",
      "  inflating: ./fish/fish1361.jpg     \n",
      "  inflating: ./fish/fish1363.jpg     \n",
      "  inflating: ./fish/fish1366.jpg     \n",
      "  inflating: ./fish/fish1369.jpg     \n",
      "  inflating: ./fish/fish137.jpg      \n",
      "  inflating: ./fish/fish1374.jpg     \n",
      "  inflating: ./fish/fish1377.jpg     \n",
      "  inflating: ./fish/fish1379.jpg     \n",
      "  inflating: ./fish/fish1382.jpg     \n",
      "  inflating: ./fish/fish1385.jpg     \n",
      "  inflating: ./fish/fish1390.jpg     \n",
      "  inflating: ./fish/fish1393.jpg     \n",
      "  inflating: ./fish/fish1395.jpg     \n",
      "  inflating: ./fish/fish1398.jpg     \n",
      "  inflating: ./fish/fish14.jpg       \n",
      "  inflating: ./fish/fish1401.jpg     \n",
      "  inflating: ./fish/fish1406.jpg     \n",
      "  inflating: ./fish/fish1409.jpg     \n",
      "  inflating: ./fish/fish1414.jpg     \n",
      "  inflating: ./fish/fish142.jpg      \n",
      "  inflating: ./fish/fish1422.jpg     \n",
      "  inflating: ./fish/fish1430.jpg     \n",
      "  inflating: ./fish/fish1438.jpg     \n",
      "  inflating: ./fish/fish144.jpg      \n",
      "  inflating: ./fish/fish145.jpg      \n",
      "  inflating: ./fish/fish147.jpg      \n",
      "  inflating: ./fish/fish150.jpg      \n",
      "  inflating: ./fish/fish152.jpg      \n",
      "  inflating: ./fish/fish153.jpg      \n",
      "  inflating: ./fish/fish158.jpg      \n",
      "  inflating: ./fish/fish16.jpg       \n",
      "  inflating: ./fish/fish160.jpg      \n",
      "  inflating: ./fish/fish161.jpg      \n",
      "  inflating: ./fish/fish163.jpg      \n",
      "  inflating: ./fish/fish166.jpg      \n",
      "  inflating: ./fish/fish168.jpg      \n",
      "  inflating: ./fish/fish169.jpg      \n",
      "  inflating: ./fish/fish17.jpg       \n",
      "  inflating: ./fish/fish174.jpg      \n",
      "  inflating: ./fish/fish176.jpg      \n",
      "  inflating: ./fish/fish177.jpg      \n",
      "  inflating: ./fish/fish179.jpg      \n",
      "  inflating: ./fish/fish182.jpg      \n",
      "  inflating: ./fish/fish184.jpg      \n",
      "  inflating: ./fish/fish185.jpg      \n",
      "  inflating: ./fish/fish19.jpg       \n",
      "  inflating: ./fish/fish190.jpg      \n",
      "  inflating: ./fish/fish192.jpg      \n",
      "  inflating: ./fish/fish193.jpg      \n",
      "  inflating: ./fish/fish195.jpg      \n"
     ]
    },
    {
     "name": "stdout",
     "output_type": "stream",
     "text": [
      "  inflating: ./fish/fish198.jpg      \n",
      "  inflating: ./fish/fish200.jpg      \n",
      "  inflating: ./fish/fish201.jpg      \n",
      "  inflating: ./fish/fish206.jpg      \n",
      "  inflating: ./fish/fish208.jpg      \n",
      "  inflating: ./fish/fish209.jpg      \n",
      "  inflating: ./fish/fish211.jpg      \n",
      "  inflating: ./fish/fish214.jpg      \n",
      "  inflating: ./fish/fish216.jpg      \n",
      "  inflating: ./fish/fish217.jpg      \n",
      "  inflating: ./fish/fish22.jpg       \n",
      "  inflating: ./fish/fish222.jpg      \n",
      "  inflating: ./fish/fish224.jpg      \n",
      "  inflating: ./fish/fish225.jpg      \n",
      "  inflating: ./fish/fish227.jpg      \n",
      "  inflating: ./fish/fish230.jpg      \n",
      "  inflating: ./fish/fish232.jpg      \n",
      "  inflating: ./fish/fish233.jpg      \n",
      "  inflating: ./fish/fish238.jpg      \n",
      "  inflating: ./fish/fish24.jpg       \n",
      "  inflating: ./fish/fish240.jpg      \n",
      "  inflating: ./fish/fish241.jpg      \n",
      "  inflating: ./fish/fish243.jpg      \n",
      "  inflating: ./fish/fish246.jpg      \n",
      "  inflating: ./fish/fish248.jpg      \n",
      "  inflating: ./fish/fish249.jpg      \n",
      "  inflating: ./fish/fish25.jpg       \n",
      "  inflating: ./fish/fish254.jpg      \n",
      "  inflating: ./fish/fish256.jpg      \n",
      "  inflating: ./fish/fish257.jpg      \n",
      "  inflating: ./fish/fish259.jpg      \n",
      "  inflating: ./fish/fish262.jpg      \n",
      "  inflating: ./fish/fish264.jpg      \n",
      "  inflating: ./fish/fish265.jpg      \n",
      "  inflating: ./fish/fish270.jpg      \n",
      "  inflating: ./fish/fish272.jpg      \n",
      "  inflating: ./fish/fish273.jpg      \n",
      "  inflating: ./fish/fish275.jpg      \n",
      "  inflating: ./fish/fish278.jpg      \n",
      "  inflating: ./fish/fish280.jpg      \n",
      "  inflating: ./fish/fish281.jpg      \n",
      "  inflating: ./fish/fish286.jpg      \n",
      "  inflating: ./fish/fish288.jpg      \n",
      "  inflating: ./fish/fish289.jpg      \n",
      "  inflating: ./fish/fish291.jpg      \n",
      "  inflating: ./fish/fish294.jpg      \n",
      "  inflating: ./fish/fish296.jpg      \n",
      "  inflating: ./fish/fish297.jpg      \n",
      "  inflating: ./fish/fish3.jpg        \n",
      "  inflating: ./fish/fish30.jpg       \n",
      "  inflating: ./fish/fish302.jpg      \n",
      "  inflating: ./fish/fish304.jpg      \n",
      "  inflating: ./fish/fish305.jpg      \n",
      "  inflating: ./fish/fish307.jpg      \n",
      "  inflating: ./fish/fish310.jpg      \n",
      "  inflating: ./fish/fish312.jpg      \n",
      "  inflating: ./fish/fish313.jpg      \n",
      "  inflating: ./fish/fish318.jpg      \n",
      "  inflating: ./fish/fish32.jpg       \n",
      "  inflating: ./fish/fish320.jpg      \n",
      "  inflating: ./fish/fish321.jpg      \n",
      "  inflating: ./fish/fish323.jpg      \n",
      "  inflating: ./fish/fish326.jpg      \n",
      "  inflating: ./fish/fish328.jpg      \n",
      "  inflating: ./fish/fish329.jpg      \n",
      "  inflating: ./fish/fish33.jpg       \n",
      "  inflating: ./fish/fish334.jpg      \n",
      "  inflating: ./fish/fish336.jpg      \n",
      "  inflating: ./fish/fish337.jpg      \n",
      "  inflating: ./fish/fish339.jpg      \n",
      "  inflating: ./fish/fish342.jpg      \n",
      "  inflating: ./fish/fish344.jpg      \n",
      "  inflating: ./fish/fish345.jpg      \n",
      "  inflating: ./fish/fish35.jpg       \n",
      "  inflating: ./fish/fish350.jpg      \n",
      "  inflating: ./fish/fish352.jpg      \n",
      "  inflating: ./fish/fish353.jpg      \n",
      "  inflating: ./fish/fish355.jpg      \n",
      "  inflating: ./fish/fish358.jpg      \n",
      "  inflating: ./fish/fish360.jpg      \n",
      "  inflating: ./fish/fish361.jpg      \n",
      "  inflating: ./fish/fish366.jpg      \n",
      "  inflating: ./fish/fish368.jpg      \n",
      "  inflating: ./fish/fish369.jpg      \n",
      "  inflating: ./fish/fish371.jpg      \n",
      "  inflating: ./fish/fish374.jpg      \n",
      "  inflating: ./fish/fish376.jpg      \n",
      "  inflating: ./fish/fish377.jpg      \n",
      "  inflating: ./fish/fish38.jpg       \n",
      "  inflating: ./fish/fish382.jpg      \n",
      "  inflating: ./fish/fish384.jpg      \n",
      "  inflating: ./fish/fish385.jpg      \n",
      "  inflating: ./fish/fish387.jpg      \n",
      "  inflating: ./fish/fish390.jpg      \n",
      "  inflating: ./fish/fish392.jpg      \n",
      "  inflating: ./fish/fish393.jpg      \n",
      "  inflating: ./fish/fish398.jpg      \n",
      "  inflating: ./fish/fish40.jpg       \n",
      "  inflating: ./fish/fish400.jpg      \n",
      "  inflating: ./fish/fish401.jpg      \n",
      "  inflating: ./fish/fish403.jpg      \n",
      "  inflating: ./fish/fish406.jpg      \n",
      "  inflating: ./fish/fish408.jpg      \n",
      "  inflating: ./fish/fish409.jpg      \n",
      "  inflating: ./fish/fish41.jpg       \n",
      "  inflating: ./fish/fish414.jpg      \n",
      "  inflating: ./fish/fish416.jpg      \n",
      "  inflating: ./fish/fish417.jpg      \n",
      "  inflating: ./fish/fish419.jpg      \n",
      "  inflating: ./fish/fish422.jpg      \n",
      "  inflating: ./fish/fish424.jpg      \n",
      "  inflating: ./fish/fish425.jpg      \n",
      "  inflating: ./fish/fish430.jpg      \n",
      "  inflating: ./fish/fish432.jpg      \n",
      "  inflating: ./fish/fish433.jpg      \n",
      "  inflating: ./fish/fish435.jpg      \n",
      "  inflating: ./fish/fish438.jpg      \n",
      "  inflating: ./fish/fish440.jpg      \n",
      "  inflating: ./fish/fish441.jpg      \n",
      "  inflating: ./fish/fish446.jpg      \n",
      "  inflating: ./fish/fish448.jpg      \n",
      "  inflating: ./fish/fish449.jpg      \n",
      "  inflating: ./fish/fish451.jpg      \n",
      "  inflating: ./fish/fish454.jpg      \n",
      "  inflating: ./fish/fish456.jpg      \n",
      "  inflating: ./fish/fish457.jpg      \n",
      "  inflating: ./fish/fish46.jpg       \n",
      "  inflating: ./fish/fish462.jpg      \n",
      "  inflating: ./fish/fish464.jpg      \n",
      "  inflating: ./fish/fish465.jpg      \n",
      "  inflating: ./fish/fish467.jpg      \n",
      "  inflating: ./fish/fish470.jpg      \n",
      "  inflating: ./fish/fish472.jpg      \n",
      "  inflating: ./fish/fish473.jpg      \n",
      "  inflating: ./fish/fish478.jpg      \n",
      "  inflating: ./fish/fish48.jpg       \n",
      "  inflating: ./fish/fish480.jpg      \n",
      "  inflating: ./fish/fish481.jpg      \n",
      "  inflating: ./fish/fish483.jpg      \n",
      "  inflating: ./fish/fish486.jpg      \n",
      "  inflating: ./fish/fish488.jpg      \n",
      "  inflating: ./fish/fish489.jpg      \n",
      "  inflating: ./fish/fish49.jpg       \n",
      "  inflating: ./fish/fish494.jpg      \n",
      "  inflating: ./fish/fish496.jpg      \n",
      "  inflating: ./fish/fish497.jpg      \n",
      "  inflating: ./fish/fish499.jpg      \n",
      "  inflating: ./fish/fish502.jpg      \n",
      "  inflating: ./fish/fish504.jpg      \n",
      "  inflating: ./fish/fish505.jpg      \n",
      "  inflating: ./fish/fish51.jpg       \n",
      "  inflating: ./fish/fish510.jpg      \n",
      "  inflating: ./fish/fish512.jpg      \n",
      "  inflating: ./fish/fish513.jpg      \n",
      "  inflating: ./fish/fish515.jpg      \n",
      "  inflating: ./fish/fish518.jpg      \n",
      "  inflating: ./fish/fish520.jpg      \n",
      "  inflating: ./fish/fish521.jpg      \n",
      "  inflating: ./fish/fish526.jpg      \n",
      "  inflating: ./fish/fish528.jpg      \n",
      "  inflating: ./fish/fish529.jpg      \n",
      "  inflating: ./fish/fish531.jpg      \n",
      "  inflating: ./fish/fish534.jpg      \n",
      "  inflating: ./fish/fish536.jpg      \n",
      "  inflating: ./fish/fish537.jpg      \n",
      "  inflating: ./fish/fish54.jpg       \n",
      "  inflating: ./fish/fish542.jpg      \n",
      "  inflating: ./fish/fish544.jpg      \n",
      "  inflating: ./fish/fish545.jpg      \n",
      "  inflating: ./fish/fish547.jpg      \n",
      "  inflating: ./fish/fish550.jpg      \n",
      "  inflating: ./fish/fish552.jpg      \n",
      "  inflating: ./fish/fish553.jpg      \n",
      "  inflating: ./fish/fish558.jpg      \n",
      "  inflating: ./fish/fish56.jpg       \n",
      "  inflating: ./fish/fish560.jpg      \n",
      "  inflating: ./fish/fish561.jpg      \n",
      "  inflating: ./fish/fish563.jpg      \n",
      "  inflating: ./fish/fish566.jpg      \n",
      "  inflating: ./fish/fish568.jpg      \n",
      "  inflating: ./fish/fish569.jpg      \n",
      "  inflating: ./fish/fish57.jpg       \n",
      "  inflating: ./fish/fish574.jpg      \n",
      "  inflating: ./fish/fish576.jpg      \n",
      "  inflating: ./fish/fish577.jpg      \n",
      "  inflating: ./fish/fish579.jpg      \n",
      "  inflating: ./fish/fish582.jpg      \n",
      "  inflating: ./fish/fish584.jpg      \n",
      "  inflating: ./fish/fish585.jpg      \n",
      "  inflating: ./fish/fish590.jpg      \n",
      "  inflating: ./fish/fish592.jpg      \n",
      "  inflating: ./fish/fish593.jpg      \n",
      "  inflating: ./fish/fish595.jpg      \n",
      "  inflating: ./fish/fish598.jpg      \n",
      "  inflating: ./fish/fish6.jpg        \n",
      "  inflating: ./fish/fish600.jpg      \n",
      "  inflating: ./fish/fish601.jpg      \n",
      "  inflating: ./fish/fish606.jpg      \n",
      "  inflating: ./fish/fish608.jpg      \n",
      "  inflating: ./fish/fish609.jpg      \n",
      "  inflating: ./fish/fish611.jpg      \n",
      "  inflating: ./fish/fish614.jpg      \n",
      "  inflating: ./fish/fish616.jpg      \n",
      "  inflating: ./fish/fish617.jpg      \n",
      "  inflating: ./fish/fish62.jpg       \n",
      "  inflating: ./fish/fish622.jpg      \n",
      "  inflating: ./fish/fish624.jpg      \n",
      "  inflating: ./fish/fish625.jpg      \n",
      "  inflating: ./fish/fish627.jpg      \n",
      "  inflating: ./fish/fish630.jpg      \n",
      "  inflating: ./fish/fish632.jpg      \n",
      "  inflating: ./fish/fish633.jpg      \n",
      "  inflating: ./fish/fish638.jpg      \n",
      "  inflating: ./fish/fish64.jpg       \n",
      "  inflating: ./fish/fish640.jpg      \n",
      "  inflating: ./fish/fish641.jpg      \n",
      "  inflating: ./fish/fish643.jpg      \n",
      "  inflating: ./fish/fish646.jpg      \n",
      "  inflating: ./fish/fish648.jpg      \n"
     ]
    },
    {
     "name": "stdout",
     "output_type": "stream",
     "text": [
      "  inflating: ./fish/fish649.jpg      \n",
      "  inflating: ./fish/fish65.jpg       \n",
      "  inflating: ./fish/fish654.jpg      \n",
      "  inflating: ./fish/fish656.jpg      \n",
      "  inflating: ./fish/fish657.jpg      \n",
      "  inflating: ./fish/fish659.jpg      \n",
      "  inflating: ./fish/fish662.jpg      \n",
      "  inflating: ./fish/fish664.jpg      \n",
      "  inflating: ./fish/fish665.jpg      \n",
      "  inflating: ./fish/fish67.jpg       \n",
      "  inflating: ./fish/fish670.jpg      \n",
      "  inflating: ./fish/fish672.jpg      \n",
      "  inflating: ./fish/fish673.jpg      \n",
      "  inflating: ./fish/fish675.jpg      \n",
      "  inflating: ./fish/fish678.jpg      \n",
      "  inflating: ./fish/fish680.jpg      \n",
      "  inflating: ./fish/fish681.jpg      \n",
      "  inflating: ./fish/fish686.jpg      \n",
      "  inflating: ./fish/fish688.jpg      \n",
      "  inflating: ./fish/fish689.jpg      \n",
      "  inflating: ./fish/fish691.jpg      \n",
      "  inflating: ./fish/fish694.jpg      \n",
      "  inflating: ./fish/fish696.jpg      \n",
      "  inflating: ./fish/fish697.jpg      \n",
      "  inflating: ./fish/fish70.jpg       \n",
      "  inflating: ./fish/fish702.jpg      \n",
      "  inflating: ./fish/fish704.jpg      \n",
      "  inflating: ./fish/fish705.jpg      \n",
      "  inflating: ./fish/fish707.jpg      \n",
      "  inflating: ./fish/fish710.jpg      \n",
      "  inflating: ./fish/fish712.jpg      \n",
      "  inflating: ./fish/fish713.jpg      \n",
      "  inflating: ./fish/fish718.jpg      \n",
      "  inflating: ./fish/fish72.jpg       \n",
      "  inflating: ./fish/fish720.jpg      \n",
      "  inflating: ./fish/fish721.jpg      \n",
      "  inflating: ./fish/fish723.jpg      \n",
      "  inflating: ./fish/fish726.jpg      \n",
      "  inflating: ./fish/fish728.jpg      \n",
      "  inflating: ./fish/fish729.jpg      \n",
      "  inflating: ./fish/fish73.jpg       \n",
      "  inflating: ./fish/fish734.jpg      \n",
      "  inflating: ./fish/fish736.jpg      \n",
      "  inflating: ./fish/fish737.jpg      \n",
      "  inflating: ./fish/fish739.jpg      \n",
      "  inflating: ./fish/fish742.jpg      \n",
      "  inflating: ./fish/fish744.jpg      \n",
      "  inflating: ./fish/fish745.jpg      \n",
      "  inflating: ./fish/fish750.jpg      \n",
      "  inflating: ./fish/fish752.jpg      \n",
      "  inflating: ./fish/fish753.jpg      \n",
      "  inflating: ./fish/fish755.jpg      \n",
      "  inflating: ./fish/fish758.jpg      \n",
      "  inflating: ./fish/fish760.jpg      \n",
      "  inflating: ./fish/fish761.jpg      \n",
      "  inflating: ./fish/fish766.jpg      \n",
      "  inflating: ./fish/fish768.jpg      \n",
      "  inflating: ./fish/fish769.jpg      \n",
      "  inflating: ./fish/fish771.jpg      \n",
      "  inflating: ./fish/fish774.jpg      \n",
      "  inflating: ./fish/fish776.jpg      \n",
      "  inflating: ./fish/fish777.jpg      \n",
      "  inflating: ./fish/fish78.jpg       \n",
      "  inflating: ./fish/fish782.jpg      \n",
      "  inflating: ./fish/fish784.jpg      \n",
      "  inflating: ./fish/fish785.jpg      \n",
      "  inflating: ./fish/fish787.jpg      \n",
      "  inflating: ./fish/fish790.jpg      \n",
      "  inflating: ./fish/fish792.jpg      \n",
      "  inflating: ./fish/fish793.jpg      \n",
      "  inflating: ./fish/fish798.jpg      \n",
      "  inflating: ./fish/fish8.jpg        \n",
      "  inflating: ./fish/fish80.jpg       \n",
      "  inflating: ./fish/fish800.jpg      \n",
      "  inflating: ./fish/fish801.jpg      \n",
      "  inflating: ./fish/fish803.jpg      \n",
      "  inflating: ./fish/fish806.jpg      \n",
      "  inflating: ./fish/fish808.jpg      \n",
      "  inflating: ./fish/fish809.jpg      \n",
      "  inflating: ./fish/fish81.jpg       \n",
      "  inflating: ./fish/fish814.jpg      \n",
      "  inflating: ./fish/fish816.jpg      \n",
      "  inflating: ./fish/fish817.jpg      \n",
      "  inflating: ./fish/fish819.jpg      \n",
      "  inflating: ./fish/fish822.jpg      \n",
      "  inflating: ./fish/fish824.jpg      \n",
      "  inflating: ./fish/fish825.jpg      \n",
      "  inflating: ./fish/fish83.jpg       \n",
      "  inflating: ./fish/fish830.jpg      \n",
      "  inflating: ./fish/fish832.jpg      \n",
      "  inflating: ./fish/fish833.jpg      \n",
      "  inflating: ./fish/fish835.jpg      \n",
      "  inflating: ./fish/fish838.jpg      \n",
      "  inflating: ./fish/fish840.jpg      \n",
      "  inflating: ./fish/fish841.jpg      \n",
      "  inflating: ./fish/fish846.jpg      \n",
      "  inflating: ./fish/fish848.jpg      \n",
      "  inflating: ./fish/fish849.jpg      \n",
      "  inflating: ./fish/fish851.jpg      \n",
      "  inflating: ./fish/fish854.jpg      \n",
      "  inflating: ./fish/fish856.jpg      \n",
      "  inflating: ./fish/fish857.jpg      \n",
      "  inflating: ./fish/fish86.jpg       \n",
      "  inflating: ./fish/fish862.jpg      \n",
      "  inflating: ./fish/fish864.jpg      \n",
      "  inflating: ./fish/fish865.jpg      \n",
      "  inflating: ./fish/fish867.jpg      \n",
      "  inflating: ./fish/fish870.jpg      \n",
      "  inflating: ./fish/fish872.jpg      \n",
      "  inflating: ./fish/fish873.jpg      \n",
      "  inflating: ./fish/fish878.jpg      \n",
      "  inflating: ./fish/fish88.jpg       \n",
      "  inflating: ./fish/fish880.jpg      \n",
      "  inflating: ./fish/fish881.jpg      \n",
      "  inflating: ./fish/fish883.jpg      \n",
      "  inflating: ./fish/fish886.jpg      \n",
      "  inflating: ./fish/fish888.jpg      \n",
      "  inflating: ./fish/fish889.jpg      \n",
      "  inflating: ./fish/fish89.jpg       \n",
      "  inflating: ./fish/fish894.jpg      \n",
      "  inflating: ./fish/fish896.jpg      \n",
      "  inflating: ./fish/fish897.jpg      \n",
      "  inflating: ./fish/fish899.jpg      \n",
      "  inflating: ./fish/fish9.jpg        \n",
      "  inflating: ./fish/fish902.jpg      \n",
      "  inflating: ./fish/fish904.jpg      \n",
      "  inflating: ./fish/fish905.jpg      \n",
      "  inflating: ./fish/fish910.jpg      \n",
      "  inflating: ./fish/fish912.jpg      \n",
      "  inflating: ./fish/fish913.jpg      \n",
      "  inflating: ./fish/fish915.jpg      \n",
      "  inflating: ./fish/fish918.jpg      \n",
      "  inflating: ./fish/fish920.jpg      \n",
      "  inflating: ./fish/fish921.jpg      \n",
      "  inflating: ./fish/fish926.jpg      \n",
      "  inflating: ./fish/fish928.jpg      \n",
      "  inflating: ./fish/fish929.jpg      \n",
      "  inflating: ./fish/fish931.jpg      \n",
      "  inflating: ./fish/fish934.jpg      \n",
      "  inflating: ./fish/fish936.jpg      \n",
      "  inflating: ./fish/fish937.jpg      \n",
      "  inflating: ./fish/fish94.jpg       \n",
      "  inflating: ./fish/fish942.jpg      \n",
      "  inflating: ./fish/fish944.jpg      \n",
      "  inflating: ./fish/fish945.jpg      \n",
      "  inflating: ./fish/fish947.jpg      \n",
      "  inflating: ./fish/fish950.jpg      \n",
      "  inflating: ./fish/fish952.jpg      \n",
      "  inflating: ./fish/fish953.jpg      \n",
      "  inflating: ./fish/fish958.jpg      \n",
      "  inflating: ./fish/fish96.jpg       \n",
      "  inflating: ./fish/fish960.jpg      \n",
      "  inflating: ./fish/fish961.jpg      \n",
      "  inflating: ./fish/fish963.jpg      \n",
      "  inflating: ./fish/fish966.jpg      \n",
      "  inflating: ./fish/fish968.jpg      \n",
      "  inflating: ./fish/fish969.jpg      \n",
      "  inflating: ./fish/fish97.jpg       \n",
      "  inflating: ./fish/fish974.jpg      \n",
      "  inflating: ./fish/fish976.jpg      \n",
      "  inflating: ./fish/fish977.jpg      \n",
      "  inflating: ./fish/fish979.jpg      \n",
      "  inflating: ./fish/fish982.jpg      \n",
      "  inflating: ./fish/fish984.jpg      \n",
      "  inflating: ./fish/fish985.jpg      \n",
      "  inflating: ./fish/fish99.jpg       \n",
      "  inflating: ./fish/fish990.jpg      \n",
      "  inflating: ./fish/fish992.jpg      \n",
      "  inflating: ./fish/fish993.jpg      \n",
      "  inflating: ./fish/fish995.jpg      \n",
      "  inflating: ./fish/fish998.jpg      \n"
     ]
    }
   ],
   "source": [
    "!unzip ./fish.zip -d ./"
   ]
  },
  {
   "cell_type": "markdown",
   "metadata": {},
   "source": [
    "This sample archive contains the following structure:  614`.jpg` training image files"
   ]
  },
  {
   "cell_type": "markdown",
   "metadata": {},
   "source": [
    "Now let's upload this dataset to your own S3 bucket in preparation for labeling and training using Amazon SageMaker. "
   ]
  },
  {
   "cell_type": "code",
   "execution_count": 3,
   "metadata": {},
   "outputs": [],
   "source": [
    "# My S3 bucket created in North Virginia region\n",
    "# < Enter the name of bucket and prefix >\n",
    "BUCKET = 'deeplens-sagemaker-experiment'\n",
    "PREFIX = 'input' # This is the root path to my working space, feel free to use a different path"
   ]
  },
  {
   "cell_type": "markdown",
   "metadata": {},
   "source": [
    "I uploaded this by manually drag it to s3://deeplens-sagemaker-experiment/fish"
   ]
  },
  {
   "cell_type": "markdown",
   "metadata": {},
   "source": [
    "## Labeling with SageMaker Ground Truth <a name=\"groundtruth\"></a>"
   ]
  },
  {
   "cell_type": "markdown",
   "metadata": {},
   "source": [
    "Now, we are ready to run the labeling job using Amazon SageMaker Ground Truth. \n",
    "\n",
    "You can follow the tutorial beblow. It's well demonstrated.\n",
    "\n",
    "Creating a workforce: https://www.youtube.com/watch?v=oEcH8amMcT8\n",
    "\n",
    "Creating a labeling job: https://www.youtube.com/watch?v=mVA19zjXKGw\n",
    "\n",
    "Labeling images: https://www.youtube.com/watch?v=z1g6m3AqNYM\n",
    "\n",
    "Using labeled images: https://www.youtube.com/watch?v=cfq4-NLWTt4&t=174s\n",
    "\n",
    "Here, we hire public workforce to help us label the bounding boxes for fish.\n",
    "\n",
    "\n",
    "\n",
    "When it is finished, you can find the `output.manifest` file in  \n",
    "S3://deeplens-sagemaker-experiment/fish/fish614/manifests/output/output.manifest ,\n",
    "which is what we want."
   ]
  },
  {
   "cell_type": "markdown",
   "metadata": {},
   "source": [
    "## Reviewing labeling results\n",
    "<a name=\"reviewing\"></a>\n",
    "\n",
    "After the labeling job was completed, we can see the results of image annotations right in the SageMaker console itself. \n",
    "The console displays each image as well as the bounding boxes that were drawn by human labelers.\n",
    "\n",
    "At the same time we can examine the results in the so-called augmented manifest file that was generated. Let's download and examine the manifest file."
   ]
  },
  {
   "cell_type": "code",
   "execution_count": 4,
   "metadata": {},
   "outputs": [
    {
     "name": "stdout",
     "output_type": "stream",
     "text": [
      "download: s3://deeplens-sagemaker-experiment/fish/fish614/manifests/output/output.manifest to od_output_data/output.manifest\n",
      "{\"source-ref\":\"s3://deeplens-sagemaker-experiment/fish/fish1.jpg\",\"fish614\":{\"image_size\":[{\"width\":2220,\"height\":1235,\"depth\":3}],\"annotations\":[{\"class_id\":0,\"top\":351.4,\"left\":677.4,\"height\":81.80000000000007,\"width\":157.39999999999998},{\"class_id\":0,\"top\":146.5999999999999,\"left\":342,\"height\":73.00000000000011,\"width\":130.2},{\"class_id\":0,\"top\":792.8,\"left\":207.6,\"height\":73.39999999999998,\"width\":195.20000000000002},{\"class_id\":0,\"top\":66.59999999999991,\"left\":1781.4,\"height\":86.40000000000009,\"width\":215},{\"class_id\":0,\"top\":1053.8,\"left\":935.8,\"height\":75.19999999999999,\"width\":202.4000000000001}]},\"fish614-metadata\":{\"objects\":[{\"confidence\":0.81},{\"confidence\":0.81},{\"confidence\":0.82},{\"confidence\":0.84},{\"confidence\":0.84}],\"class-map\":{\"0\":\"fish\"},\"type\":\"groundtruth/object-detection\",\"human-annotated\":\"yes\",\"creation-date\":\"2020-10-08T10:38:09.801866\",\"job-name\":\"labeling-job/fish614\"}}\n",
      "{\"source-ref\":\"s3://deeplens-sagemaker-experiment/fish/fish1000.jpg\",\"fish614\":{\"image_size\":[{\"width\":2220,\"height\":1235,\"depth\":3}],\"annotations\":[{\"class_id\":0,\"top\":24.40000000000009,\"left\":629.6,\"height\":78.79999999999995,\"width\":215.39999999999998},{\"class_id\":0,\"top\":884.2,\"left\":322.2,\"height\":75.80000000000001,\"width\":202.40000000000003},{\"class_id\":0,\"top\":967.2,\"left\":67.8,\"height\":116.20000000000002,\"width\":186},{\"class_id\":0,\"top\":917.2,\"left\":774.4,\"height\":121.4,\"width\":200.60000000000002},{\"class_id\":0,\"top\":1067,\"left\":1197.6,\"height\":97.2,\"width\":196}]},\"fish614-metadata\":{\"objects\":[{\"confidence\":0.84},{\"confidence\":0.84},{\"confidence\":0.84},{\"confidence\":0.86},{\"confidence\":0.84}],\"class-map\":{\"0\":\"fish\"},\"type\":\"groundtruth/object-detection\",\"human-annotated\":\"yes\",\"creation-date\":\"2020-10-08T10:25:02.655271\",\"job-name\":\"labeling-job/fish614\"}}\n",
      "{\"source-ref\":\"s3://deeplens-sagemaker-experiment/fish/fish1001.jpg\",\"fish614\":{\"image_size\":[{\"width\":2220,\"height\":1235,\"depth\":3}],\"annotations\":[{\"class_id\":0,\"top\":111.79999999999995,\"left\":242.6,\"height\":82.40000000000009,\"width\":216.79999999999998},{\"class_id\":0,\"top\":480.79999999999995,\"left\":460.2,\"height\":80.20000000000005,\"width\":212.00000000000006},{\"class_id\":0,\"top\":690.8,\"left\":43.4,\"height\":72.40000000000003,\"width\":191.79999999999998},{\"class_id\":0,\"top\":480,\"left\":1792.8,\"height\":80,\"width\":200.60000000000014},{\"class_id\":0,\"top\":1025,\"left\":1351.2,\"height\":71.19999999999999,\"width\":202.79999999999995}]},\"fish614-metadata\":{\"objects\":[{\"confidence\":0.84},{\"confidence\":0.82},{\"confidence\":0.82},{\"confidence\":0.82},{\"confidence\":0.8}],\"class-map\":{\"0\":\"fish\"},\"type\":\"groundtruth/object-detection\",\"human-annotated\":\"yes\",\"creation-date\":\"2020-10-08T10:44:48.914993\",\"job-name\":\"labeling-job/fish614\"}}\n"
     ]
    }
   ],
   "source": [
    "# This block should be useful and prior, but since I mis-named the labeling_job_name and badly named the dir path. \n",
    "# For this sample, I ran the following couple of block to rectify it, hopefully.\n",
    "\n",
    "# <Enter the name of your job here>\n",
    "labeling_job_name = 'fish614' # feel free to change\n",
    "\n",
    "import boto3\n",
    "client = boto3.client('sagemaker')\n",
    "\n",
    "s3_output = client.describe_labeling_job(LabelingJobName=labeling_job_name)['OutputConfig']['S3OutputPath'] + labeling_job_name\n",
    "augmented_manifest_url = f'{s3_output}/manifests/output/output.manifest'\n",
    "\n",
    "import os\n",
    "import shutil\n",
    "\n",
    "try:\n",
    "    os.makedirs('od_output_data/', exist_ok=False)\n",
    "except FileExistsError:\n",
    "    shutil.rmtree('od_output_data/')\n",
    "\n",
    "# now download the augmented manifest file and display first 3 lines\n",
    "!aws s3 cp $augmented_manifest_url od_output_data/\n",
    "augmented_manifest_file = 'od_output_data/output.manifest'\n",
    "!head -3 $augmented_manifest_file\n",
    "\n",
    "\n",
    "# ---------------------------------------------------------------------------------"
   ]
  },
  {
   "cell_type": "markdown",
   "metadata": {},
   "source": [
    "Now let's plot some annotated images. First, let's define a function that displays the local image file and draws over it the bounding boxes obtained via labeling."
   ]
  },
  {
   "cell_type": "code",
   "execution_count": 5,
   "metadata": {},
   "outputs": [
    {
     "name": "stderr",
     "output_type": "stream",
     "text": [
      "Matplotlib is building the font cache using fc-list. This may take a moment.\n"
     ]
    }
   ],
   "source": [
    "import matplotlib.pyplot as plt\n",
    "import matplotlib.patches as patches\n",
    "from PIL import Image\n",
    "import numpy as np\n",
    "from itertools import cycle"
   ]
  },
  {
   "cell_type": "code",
   "execution_count": 6,
   "metadata": {},
   "outputs": [],
   "source": [
    "def show_annotated_image(img_path, bboxes):\n",
    "    im = np.array(Image.open(img_path), dtype=np.uint8)\n",
    "    #print(im)\n",
    "    # Create figure and axes\n",
    "    fig,ax = plt.subplots(1)\n",
    "\n",
    "    # Display the image\n",
    "    ax.imshow(im)\n",
    "\n",
    "    colors = cycle(['r', 'g', 'b', 'y', 'c', 'm', 'k', 'w'])\n",
    "    \n",
    "    for bbox in bboxes:\n",
    "        # Create a Rectangle patch\n",
    "        rect = patches.Rectangle((bbox['left'],bbox['top']),bbox['width'],bbox['height'],linewidth=1,edgecolor=next(colors),facecolor='none')\n",
    "\n",
    "        # Add the patch to the Axes\n",
    "        ax.add_patch(rect)\n",
    "\n",
    "    plt.show()"
   ]
  },
  {
   "cell_type": "markdown",
   "metadata": {},
   "source": [
    "Next, read the augmented manifest (JSON lines format) line by line and display the first few images."
   ]
  },
  {
   "cell_type": "code",
   "execution_count": 7,
   "metadata": {
    "scrolled": false
   },
   "outputs": [
    {
     "data": {
      "image/png": "[encoded data removed]",
      "text/plain": [
       "<Figure size 432x288 with 1 Axes>"
      ]
     },
     "metadata": {
      "needs_background": "light"
     },
     "output_type": "display_data"
    },
    {
     "data": {
      "image/png": "[encoded data removed]",
      "text/plain": [
       "<Figure size 432x288 with 1 Axes>"
      ]
     },
     "metadata": {
      "needs_background": "light"
     },
     "output_type": "display_data"
    }
   ],
   "source": [
    "!pip -q install --upgrade pip\n",
    "!pip -q install jsonlines\n",
    "import jsonlines\n",
    "from itertools import islice\n",
    "\n",
    "with jsonlines.open(augmented_manifest_file, 'r') as reader:\n",
    "    for desc in islice(reader, 2):\n",
    "        img_url = desc['source-ref']\n",
    "        img_file = os.path.basename(img_url)\n",
    "        # file_exists = os.path.isfile(\"cars training\"+img_file)  # check if the file exists\n",
    "        bboxes = desc[labeling_job_name]['annotations']\n",
    "        show_annotated_image(\"fish/\"+img_file, bboxes)     # remember to change the dir path"
   ]
  },
  {
   "cell_type": "markdown",
   "metadata": {},
   "source": [
    "<a name='training'></a>\n",
    "## Training an Object Detection Model\n",
    "We are now ready to use the labeled dataset to train a Machine Learning model using the SageMaker [built-in Object Detection algorithm](https://docs.aws.amazon.com/sagemaker/latest/dg/object-detection.html).\n",
    "\n",
    "For this, we would need to split the full labeled dataset into a TRAINING and a VALIDATION dataset. Out of the total of 100 images we are going to use 80% for training and 20% for validation. The algorithm will use the first one to train the model and the latter to estimate the accuracy of the trained model. The augmented manifest file from the ground truth output location`output.manifest`. "
   ]
  },
  {
   "cell_type": "code",
   "execution_count": 8,
   "metadata": {},
   "outputs": [
    {
     "name": "stdout",
     "output_type": "stream",
     "text": [
      "training samples: 553, validation samples: 61\n"
     ]
    }
   ],
   "source": [
    "import json\n",
    "\n",
    "with jsonlines.open('od_output_data/output.manifest', 'r') as reader:\n",
    "    lines = list(reader)\n",
    "    # Shuffle data in place.\n",
    "    np.random.shuffle(lines)\n",
    "    \n",
    "dataset_size = len(lines)\n",
    "num_training_samples = round(dataset_size*0.9)\n",
    "\n",
    "train_data = lines[:num_training_samples]\n",
    "validation_data = lines[num_training_samples:]\n",
    "\n",
    "augmented_manifest_filename_train = 'train.manifest'\n",
    "\n",
    "with open(augmented_manifest_filename_train, 'w') as f:\n",
    "    for line in train_data:\n",
    "        f.write(json.dumps(line))\n",
    "        f.write('\\n')\n",
    "\n",
    "augmented_manifest_filename_validation = 'validation.manifest'\n",
    "\n",
    "with open(augmented_manifest_filename_validation, 'w') as f:\n",
    "    for line in validation_data:\n",
    "        f.write(json.dumps(line))\n",
    "        f.write('\\n')\n",
    "        \n",
    "print(f'training samples: {num_training_samples}, validation samples: {len(lines)-num_training_samples}')"
   ]
  },
  {
   "cell_type": "markdown",
   "metadata": {},
   "source": [
    "Next, let's upload the two manifest files to S3 in preparation for training. We will use the same bucket you created earlier."
   ]
  },
  {
   "cell_type": "code",
   "execution_count": 9,
   "metadata": {},
   "outputs": [
    {
     "name": "stdout",
     "output_type": "stream",
     "text": [
      "upload: ./train.manifest to s3://deeplens-sagemaker-experiment/input/training/train.manifest\n",
      "upload: ./validation.manifest to s3://deeplens-sagemaker-experiment/input/training/validation.manifest\n"
     ]
    }
   ],
   "source": [
    "pfx_training = PREFIX + '/training' if PREFIX else 'training'\n",
    "\n",
    "# Defines paths for use in the training job request.\n",
    "s3_train_data_path = 's3://{}/{}/{}'.format(BUCKET, pfx_training, augmented_manifest_filename_train)\n",
    "# augmented_manifest_filename_train = 'train.manifest'\n",
    "s3_validation_data_path = 's3://{}/{}/{}'.format(BUCKET, pfx_training, augmented_manifest_filename_validation)\n",
    "\n",
    "!aws s3 cp train.manifest s3://$BUCKET/$pfx_training/\n",
    "!aws s3 cp validation.manifest s3://$BUCKET/$pfx_training/"
   ]
  },
  {
   "cell_type": "markdown",
   "metadata": {},
   "source": [
    "We are now ready to kick off the training. Please try to do it from the SageMaker console, but alternatively, you can just run this code in a new cell using SageMaker Python SDK:\n",
    "### Code option\n"
   ]
  },
  {
   "cell_type": "code",
   "execution_count": 10,
   "metadata": {},
   "outputs": [
    {
     "name": "stderr",
     "output_type": "stream",
     "text": [
      "'get_image_uri' method will be deprecated in favor of 'ImageURIProvider' class in SageMaker Python SDK v2.\n"
     ]
    }
   ],
   "source": [
    "import time\n",
    "import sagemaker\n",
    "\n",
    "role = sagemaker.get_execution_role()\n",
    "sess = sagemaker.Session()\n",
    "\n",
    "training_image = sagemaker.amazon.amazon_estimator.get_image_uri(\n",
    "    boto3.Session().region_name, 'object-detection', repo_version='latest')\n",
    "\n",
    "s3_output_path = 's3://{}/{}/output'.format(BUCKET, pfx_training)\n",
    "\n",
    "# Recall:\n",
    "# pfx_training = PREFIX + '/training' if PREFIX else 'training'\n",
    "# PREFIX = 'input' # this is the root path to your working space, feel to use a different path"
   ]
  },
  {
   "cell_type": "code",
   "execution_count": 11,
   "metadata": {},
   "outputs": [],
   "source": [
    "# Create unique job name. If you repeat the training job for whatever reason, remember to rename it with a unique name.\n",
    "training_job_name = 'fish614'"
   ]
  },
  {
   "cell_type": "code",
   "execution_count": 12,
   "metadata": {},
   "outputs": [
    {
     "name": "stdout",
     "output_type": "stream",
     "text": [
      "614\n"
     ]
    }
   ],
   "source": [
    "# To see the details of every image, including: class_id, info of bounding box(all four dimensions) and so on\n",
    "with jsonlines.open('od_output_data/output.manifest', 'r') as reader:\n",
    "    lines = list(reader)\n",
    "    # Shuffle data in place.\n",
    "    np.random.shuffle(lines)\n",
    "dataset_size = len(lines)\n",
    "print(dataset_size)"
   ]
  },
  {
   "cell_type": "code",
   "execution_count": 13,
   "metadata": {},
   "outputs": [],
   "source": [
    "training_params = \\\n",
    "    {\n",
    "        \"AlgorithmSpecification\": {\n",
    "            # NB. This is one of the named constants defined in the first cell.\n",
    "            \"TrainingImage\": training_image,\n",
    "            \"TrainingInputMode\": \"Pipe\"\n",
    "        },\n",
    "        \"RoleArn\": role,\n",
    "        \"OutputDataConfig\": {\n",
    "            \"S3OutputPath\": s3_output_path\n",
    "        },\n",
    "        \"ResourceConfig\": {\n",
    "            \"InstanceCount\": 1,\n",
    "            \"InstanceType\": \"ml.p3.2xlarge\",\n",
    "            \"VolumeSizeInGB\": 12  # feel free to enlarge the volume size\n",
    "        },\n",
    "        \"TrainingJobName\": training_job_name,\n",
    "        \"HyperParameters\": {  \n",
    "            # NB. These hyperparameters are at the user's discretion and are beyond the scope of this demo.\n",
    "            \"base_network\": \"resnet-50\",\n",
    "            \"use_pretrained_model\": \"1\",\n",
    "            \"num_classes\": \"1\",  # this should be changed if you detect more than 1 object.\n",
    "            \"mini_batch_size\": \"32\", # the mini batch size is very important to modify.\n",
    "                                     # If you find it wrong when deploy the model to DeepLens, \n",
    "                                     # with the problem of mis-match filter size or so,\n",
    "                                     # remember to change the mini batch size until it works well.\n",
    "            \"epochs\": \"500\", # you can increase this\n",
    "            \"learning_rate\": \"0.001\",\n",
    "            \"lr_scheduler_step\": \"\",\n",
    "            \"lr_scheduler_factor\": \"0.1\",\n",
    "            \"optimizer\": \"sgd\",\n",
    "            \"momentum\": \"0.9\",\n",
    "            \"weight_decay\": \"0.0005\",\n",
    "            \"overlap_threshold\": \"0.5\",\n",
    "            \"nms_threshold\": \"0.45\",\n",
    "            \"image_shape\": \"300\", # Note down this, image size is 300\n",
    "            \"label_width\": \"350\",\n",
    "            \"num_training_samples\": str(num_training_samples)\n",
    "        },\n",
    "        \"StoppingCondition\": {\n",
    "            \"MaxRuntimeInSeconds\": 86400\n",
    "        },\n",
    "        \"InputDataConfig\": [\n",
    "            {\n",
    "                \"ChannelName\": \"train\",\n",
    "                \"DataSource\": {\n",
    "                    \"S3DataSource\": {\n",
    "                        \"S3DataType\": \"AugmentedManifestFile\",  # NB. Augmented Manifest\n",
    "                        \"S3Uri\": s3_train_data_path, \n",
    "                        \"S3DataDistributionType\": \"FullyReplicated\",\n",
    "                        # NB. This must correspond to the JSON field names in your augmented manifest.\n",
    "                        \"AttributeNames\": ['source-ref', 'fish614'] \n",
    "                                            #!!!Remember to change 'catsNdogs-only-label-catss' \n",
    "                                            #   with your onw labeling job name.\n",
    "                    }\n",
    "                },\n",
    "                \"ContentType\": \"application/x-recordio\",\n",
    "                \"RecordWrapperType\": \"RecordIO\",\n",
    "                \"CompressionType\": \"None\"\n",
    "            },\n",
    "            {\n",
    "                \"ChannelName\": \"validation\",\n",
    "                \"DataSource\": {\n",
    "                    \"S3DataSource\": {\n",
    "                        \"S3DataType\": \"AugmentedManifestFile\",  # NB. Augmented Manifest\n",
    "                        \"S3Uri\": s3_validation_data_path,\n",
    "                        \"S3DataDistributionType\": \"FullyReplicated\",\n",
    "                        # NB. This must correspond to the JSON field names in your augmented manifest.\n",
    "                        \"AttributeNames\": ['source-ref', 'fish614'] \n",
    "                                            #!!!Remember to change 'catsNdogs-only-label-catss' \n",
    "                                            #   with your onw labeling job name.\n",
    "                    }\n",
    "                },\n",
    "                \"ContentType\": \"application/x-recordio\",\n",
    "                \"RecordWrapperType\": \"RecordIO\",\n",
    "                \"CompressionType\": \"None\"\n",
    "            }\n",
    "        ]\n",
    "    }\n"
   ]
  },
  {
   "cell_type": "code",
   "execution_count": 14,
   "metadata": {},
   "outputs": [
    {
     "data": {
      "text/plain": [
       "{'TrainingJobArn': 'arn:aws:sagemaker:us-east-1:137149936888:training-job/fish614',\n",
       " 'ResponseMetadata': {'RequestId': '7bd5efd4-63ee-4878-8327-cffccece5acc',\n",
       "  'HTTPStatusCode': 200,\n",
       "  'HTTPHeaders': {'x-amzn-requestid': '7bd5efd4-63ee-4878-8327-cffccece5acc',\n",
       "   'content-type': 'application/x-amz-json-1.1',\n",
       "   'content-length': '82',\n",
       "   'date': 'Mon, 12 Oct 2020 03:15:50 GMT'},\n",
       "  'RetryAttempts': 0}}"
      ]
     },
     "execution_count": 14,
     "metadata": {},
     "output_type": "execute_result"
    }
   ],
   "source": [
    "# Now we create the SageMaker training job.\n",
    "client = boto3.client(service_name='sagemaker')\n",
    "client.create_training_job(**training_params)"
   ]
  },
  {
   "cell_type": "code",
   "execution_count": 17,
   "metadata": {},
   "outputs": [
    {
     "name": "stdout",
     "output_type": "stream",
     "text": [
      "Training job current status: InProgress\n"
     ]
    }
   ],
   "source": [
    "# Confirm that the training job has started\n",
    "status = client.describe_training_job(TrainingJobName=training_job_name)['TrainingJobStatus']\n",
    "print('Training job current status: {}'.format(status))"
   ]
  },
  {
   "cell_type": "markdown",
   "metadata": {},
   "source": [
    "To check the progess of the training job, you can refresh the console or repeatedly evaluate the following cell. When the training job status reads `'Completed'`, move on to the next part of the tutorial."
   ]
  },
  {
   "cell_type": "code",
   "execution_count": 1,
   "metadata": {},
   "outputs": [
    {
     "ename": "NameError",
     "evalue": "name 'client' is not defined",
     "output_type": "error",
     "traceback": [
      "\u001b[0;31m---------------------------------------------------------------------------\u001b[0m",
      "\u001b[0;31mNameError\u001b[0m                                 Traceback (most recent call last)",
      "\u001b[0;32m<ipython-input-1-c8f91c58631e>\u001b[0m in \u001b[0;36m<module>\u001b[0;34m\u001b[0m\n\u001b[0;32m----> 1\u001b[0;31m \u001b[0mtraining_info\u001b[0m \u001b[0;34m=\u001b[0m \u001b[0mclient\u001b[0m\u001b[0;34m.\u001b[0m\u001b[0mdescribe_training_job\u001b[0m\u001b[0;34m(\u001b[0m\u001b[0mTrainingJobName\u001b[0m\u001b[0;34m=\u001b[0m\u001b[0mtraining_job_name\u001b[0m\u001b[0;34m)\u001b[0m\u001b[0;34m\u001b[0m\u001b[0;34m\u001b[0m\u001b[0m\n\u001b[0m\u001b[1;32m      2\u001b[0m \u001b[0;34m\u001b[0m\u001b[0m\n\u001b[1;32m      3\u001b[0m \u001b[0mprint\u001b[0m\u001b[0;34m(\u001b[0m\u001b[0;34m\"Training job status: \"\u001b[0m\u001b[0;34m,\u001b[0m \u001b[0mtraining_info\u001b[0m\u001b[0;34m[\u001b[0m\u001b[0;34m'TrainingJobStatus'\u001b[0m\u001b[0;34m]\u001b[0m\u001b[0;34m)\u001b[0m\u001b[0;34m\u001b[0m\u001b[0;34m\u001b[0m\u001b[0m\n\u001b[1;32m      4\u001b[0m \u001b[0mprint\u001b[0m\u001b[0;34m(\u001b[0m\u001b[0;34m\"Secondary status: \"\u001b[0m\u001b[0;34m,\u001b[0m \u001b[0mtraining_info\u001b[0m\u001b[0;34m[\u001b[0m\u001b[0;34m'SecondaryStatus'\u001b[0m\u001b[0;34m]\u001b[0m\u001b[0;34m)\u001b[0m\u001b[0;34m\u001b[0m\u001b[0;34m\u001b[0m\u001b[0m\n",
      "\u001b[0;31mNameError\u001b[0m: name 'client' is not defined"
     ]
    }
   ],
   "source": [
    "training_info = client.describe_training_job(TrainingJobName=training_job_name)\n",
    "\n",
    "print(\"Training job status: \", training_info['TrainingJobStatus'])\n",
    "print(\"Secondary status: \", training_info['SecondaryStatus'])"
   ]
  },
  {
   "cell_type": "markdown",
   "metadata": {},
   "source": [
    "<a name='review_training'></a>\n",
    "\n",
    "## Review of Training Results"
   ]
  },
  {
   "cell_type": "markdown",
   "metadata": {},
   "source": [
    "First, let's create the SageMaker model out of model artifacts"
   ]
  },
  {
   "cell_type": "code",
   "execution_count": 20,
   "metadata": {},
   "outputs": [
    {
     "name": "stdout",
     "output_type": "stream",
     "text": [
      "arn:aws:sagemaker:us-east-1:137149936888:model/fish614-model-2020-10-12-06-36-06\n"
     ]
    }
   ],
   "source": [
    "import time\n",
    "timestamp = time.strftime('-%Y-%m-%d-%H-%M-%S', time.gmtime())\n",
    "model_name = training_job_name + '-model' + timestamp\n",
    "\n",
    "training_image = training_info['AlgorithmSpecification']['TrainingImage']\n",
    "model_data = training_info['ModelArtifacts']['S3ModelArtifacts']\n",
    "\n",
    "primary_container = {\n",
    "    'Image': training_image,\n",
    "    'ModelDataUrl': model_data,\n",
    "}\n",
    "\n",
    "from sagemaker import get_execution_role\n",
    "\n",
    "role = get_execution_role()\n",
    "\n",
    "create_model_response = client.create_model(ModelName = model_name,\n",
    "                                            ExecutionRoleArn = role,\n",
    "                                            PrimaryContainer = primary_container)\n",
    "\n",
    "print(create_model_response['ModelArn'])"
   ]
  },
  {
   "cell_type": "code",
   "execution_count": 21,
   "metadata": {},
   "outputs": [
    {
     "name": "stdout",
     "output_type": "stream",
     "text": [
      "Endpoint configuration name: fish614-epc-2020-10-12-06-36-07\n",
      "Endpoint configuration arn:  arn:aws:sagemaker:us-east-1:137149936888:endpoint-config/fish614-epc-2020-10-12-06-36-07\n"
     ]
    }
   ],
   "source": [
    "timestamp = time.strftime('-%Y-%m-%d-%H-%M-%S', time.gmtime())\n",
    "endpoint_config_name = training_job_name + '-epc' + timestamp\n",
    "endpoint_config_response = client.create_endpoint_config(\n",
    "    EndpointConfigName = endpoint_config_name,\n",
    "    ProductionVariants=[{\n",
    "        'InstanceType':'ml.t2.medium',  # no need to use those chargable instancetype. ml.t2.medium is good enough\n",
    "        'InitialInstanceCount':1,\n",
    "        'ModelName':model_name,\n",
    "        'VariantName':'AllTraffic'}])\n",
    "\n",
    "print('Endpoint configuration name: {}'.format(endpoint_config_name))\n",
    "print('Endpoint configuration arn:  {}'.format(endpoint_config_response['EndpointConfigArn']))"
   ]
  },
  {
   "cell_type": "markdown",
   "metadata": {},
   "source": [
    "### Create Endpoint\n",
    "\n",
    "The next cell creates an endpoint that can be validated and incorporated into production applications. This takes about 10 minutes to complete."
   ]
  },
  {
   "cell_type": "code",
   "execution_count": 22,
   "metadata": {},
   "outputs": [
    {
     "name": "stdout",
     "output_type": "stream",
     "text": [
      "Endpoint name: fish614-ep-2020-10-12-06-36-12\n",
      "EndpointArn = arn:aws:sagemaker:us-east-1:137149936888:endpoint/fish614-ep-2020-10-12-06-36-12\n"
     ]
    }
   ],
   "source": [
    "timestamp = time.strftime('-%Y-%m-%d-%H-%M-%S', time.gmtime())\n",
    "endpoint_name = training_job_name + '-ep' + timestamp\n",
    "print('Endpoint name: {}'.format(endpoint_name))\n",
    "\n",
    "endpoint_params = {\n",
    "    'EndpointName': endpoint_name,\n",
    "    'EndpointConfigName': endpoint_config_name,\n",
    "}\n",
    "endpoint_response = client.create_endpoint(**endpoint_params)\n",
    "print('EndpointArn = {}'.format(endpoint_response['EndpointArn']))"
   ]
  },
  {
   "cell_type": "markdown",
   "metadata": {},
   "source": [
    "Copy the endpoint name to the below Paramater"
   ]
  },
  {
   "cell_type": "code",
   "execution_count": 23,
   "metadata": {},
   "outputs": [],
   "source": [
    "endpoint_name= \"fish614-ep-2020-10-12-06-36-12\"\n",
    "# Remember to copy the Endpoint name that's shown in the above output"
   ]
  },
  {
   "cell_type": "markdown",
   "metadata": {},
   "source": [
    "You can repeadly check the endpoint status.\n",
    "Or just go to AWS SageMaker control panel."
   ]
  },
  {
   "cell_type": "code",
   "execution_count": 24,
   "metadata": {},
   "outputs": [
    {
     "name": "stdout",
     "output_type": "stream",
     "text": [
      "EndpointStatus = Creating\n"
     ]
    }
   ],
   "source": [
    "# get the status of the endpoint\n",
    "response = client.describe_endpoint(EndpointName=endpoint_name)\n",
    "status = response['EndpointStatus']\n",
    "print('EndpointStatus = {}'.format(status))"
   ]
  },
  {
   "cell_type": "markdown",
   "metadata": {},
   "source": [
    "### Perform inference"
   ]
  },
  {
   "cell_type": "markdown",
   "metadata": {},
   "source": [
    "We will invoke the deployed endpoint to detect some fish in a few test images that were inside the `test` folder."
   ]
  },
  {
   "cell_type": "code",
   "execution_count": 25,
   "metadata": {},
   "outputs": [],
   "source": [
    "# wait until the status has changed\n",
    "client.get_waiter('endpoint_in_service').wait(EndpointName=endpoint_name)\n",
    "endpoint_response = client.describe_endpoint(EndpointName=endpoint_name)\n",
    "status = endpoint_response['EndpointStatus']\n",
    "if status != 'InService':\n",
    "    raise Exception('Endpoint creation failed.')"
   ]
  },
  {
   "cell_type": "code",
   "execution_count": 26,
   "metadata": {},
   "outputs": [
    {
     "name": "stdout",
     "output_type": "stream",
     "text": [
      "test/fish6.jpg\n",
      "test/fish3.jpg\n",
      "test/fish1.jpg\n",
      "['test/fish6.jpg', 'test/fish3.jpg', 'test/fish1.jpg']\n"
     ]
    }
   ],
   "source": [
    "import glob\n",
    "test_images = glob.glob('test/*')\n",
    "print(*test_images, sep=\"\\n\")\n",
    "print(test_images)"
   ]
  },
  {
   "cell_type": "markdown",
   "metadata": {},
   "source": [
    "Next, define a function that converts the prediction array returned by our endpoint to the bounding box structure expected by our image display function."
   ]
  },
  {
   "cell_type": "code",
   "execution_count": 27,
   "metadata": {},
   "outputs": [],
   "source": [
    "def prediction_to_bbox_data(image_path, prediction):\n",
    "    class_id, confidence, xmin, ymin, xmax, ymax = prediction\n",
    "    width, height = Image.open(image_path).size\n",
    "    bbox_data = {'class_id': class_id,\n",
    "               'height': (ymax-ymin)*height,\n",
    "               'width': (xmax-xmin)*width,\n",
    "               'left': xmin*width,\n",
    "               'top': ymin*height}\n",
    "    return bbox_data"
   ]
  },
  {
   "cell_type": "markdown",
   "metadata": {},
   "source": [
    "Finally, for each of the test images, the following cell transforms the image into the appropriate format for realtime prediction."
   ]
  },
  {
   "cell_type": "code",
   "execution_count": 28,
   "metadata": {},
   "outputs": [],
   "source": [
    "import matplotlib.pyplot as plt\n",
    "\n",
    "runtime_client = boto3.client('sagemaker-runtime')\n",
    "\n",
    "# Call SageMaker endpoint to obtain predictions\n",
    "def get_predictions_for_img(runtime_client, endpoint_name, img_path):\n",
    "    with open(img_path, 'rb') as f:\n",
    "        payload = f.read()\n",
    "        payload = bytearray(payload)\n",
    "    \n",
    "    response = runtime_client.invoke_endpoint(EndpointName=endpoint_name, \n",
    "                                              ContentType='application/x-image', \n",
    "                                              Body=payload)\n",
    "    \n",
    "    result = response['Body'].read()\n",
    "    \n",
    "    result = json.loads(result)\n",
    "\n",
    "    return result"
   ]
  },
  {
   "cell_type": "code",
   "execution_count": 49,
   "metadata": {},
   "outputs": [
    {
     "ename": "ValidationError",
     "evalue": "An error occurred (ValidationError) when calling the InvokeEndpoint operation: Endpoint fish614-ep-2020-10-12-06-36-12 of account 137149936888 not found.",
     "output_type": "error",
     "traceback": [
      "\u001b[0;31m---------------------------------------------------------------------------\u001b[0m",
      "\u001b[0;31mValidationError\u001b[0m                           Traceback (most recent call last)",
      "\u001b[0;32m<ipython-input-49-da1397dc9886>\u001b[0m in \u001b[0;36m<module>\u001b[0;34m\u001b[0m\n\u001b[1;32m      1\u001b[0m \u001b[0;32mfor\u001b[0m \u001b[0mtest_image\u001b[0m \u001b[0;32min\u001b[0m \u001b[0mtest_images\u001b[0m\u001b[0;34m:\u001b[0m\u001b[0;34m\u001b[0m\u001b[0;34m\u001b[0m\u001b[0m\n\u001b[0;32m----> 2\u001b[0;31m     \u001b[0mresult\u001b[0m \u001b[0;34m=\u001b[0m \u001b[0mget_predictions_for_img\u001b[0m\u001b[0;34m(\u001b[0m\u001b[0mruntime_client\u001b[0m\u001b[0;34m,\u001b[0m \u001b[0mendpoint_name\u001b[0m\u001b[0;34m,\u001b[0m \u001b[0mtest_image\u001b[0m\u001b[0;34m)\u001b[0m\u001b[0;34m\u001b[0m\u001b[0;34m\u001b[0m\u001b[0m\n\u001b[0m\u001b[1;32m      3\u001b[0m     \u001b[0mconfidence_threshold\u001b[0m \u001b[0;34m=\u001b[0m \u001b[0;36m.6\u001b[0m\u001b[0;34m\u001b[0m\u001b[0;34m\u001b[0m\u001b[0m\n\u001b[1;32m      4\u001b[0m     \u001b[0mbest_n\u001b[0m \u001b[0;34m=\u001b[0m \u001b[0;36m5\u001b[0m\u001b[0;34m\u001b[0m\u001b[0;34m\u001b[0m\u001b[0m\n\u001b[1;32m      5\u001b[0m     \u001b[0;31m# display the best n predictions with confidence > confidence_threshold\u001b[0m\u001b[0;34m\u001b[0m\u001b[0;34m\u001b[0m\u001b[0;34m\u001b[0m\u001b[0m\n",
      "\u001b[0;32m<ipython-input-28-9e923e99f43c>\u001b[0m in \u001b[0;36mget_predictions_for_img\u001b[0;34m(runtime_client, endpoint_name, img_path)\u001b[0m\n\u001b[1;32m     11\u001b[0m     response = runtime_client.invoke_endpoint(EndpointName=endpoint_name, \n\u001b[1;32m     12\u001b[0m                                               \u001b[0mContentType\u001b[0m\u001b[0;34m=\u001b[0m\u001b[0;34m'application/x-image'\u001b[0m\u001b[0;34m,\u001b[0m\u001b[0;34m\u001b[0m\u001b[0;34m\u001b[0m\u001b[0m\n\u001b[0;32m---> 13\u001b[0;31m                                               Body=payload)\n\u001b[0m\u001b[1;32m     14\u001b[0m \u001b[0;34m\u001b[0m\u001b[0m\n\u001b[1;32m     15\u001b[0m     \u001b[0mresult\u001b[0m \u001b[0;34m=\u001b[0m \u001b[0mresponse\u001b[0m\u001b[0;34m[\u001b[0m\u001b[0;34m'Body'\u001b[0m\u001b[0;34m]\u001b[0m\u001b[0;34m.\u001b[0m\u001b[0mread\u001b[0m\u001b[0;34m(\u001b[0m\u001b[0;34m)\u001b[0m\u001b[0;34m\u001b[0m\u001b[0;34m\u001b[0m\u001b[0m\n",
      "\u001b[0;32m~/anaconda3/envs/amazonei_mxnet_p36/lib/python3.6/site-packages/botocore/client.py\u001b[0m in \u001b[0;36m_api_call\u001b[0;34m(self, *args, **kwargs)\u001b[0m\n\u001b[1;32m    335\u001b[0m                     \"%s() only accepts keyword arguments.\" % py_operation_name)\n\u001b[1;32m    336\u001b[0m             \u001b[0;31m# The \"self\" in this scope is referring to the BaseClient.\u001b[0m\u001b[0;34m\u001b[0m\u001b[0;34m\u001b[0m\u001b[0;34m\u001b[0m\u001b[0m\n\u001b[0;32m--> 337\u001b[0;31m             \u001b[0;32mreturn\u001b[0m \u001b[0mself\u001b[0m\u001b[0;34m.\u001b[0m\u001b[0m_make_api_call\u001b[0m\u001b[0;34m(\u001b[0m\u001b[0moperation_name\u001b[0m\u001b[0;34m,\u001b[0m \u001b[0mkwargs\u001b[0m\u001b[0;34m)\u001b[0m\u001b[0;34m\u001b[0m\u001b[0;34m\u001b[0m\u001b[0m\n\u001b[0m\u001b[1;32m    338\u001b[0m \u001b[0;34m\u001b[0m\u001b[0m\n\u001b[1;32m    339\u001b[0m         \u001b[0m_api_call\u001b[0m\u001b[0;34m.\u001b[0m\u001b[0m__name__\u001b[0m \u001b[0;34m=\u001b[0m \u001b[0mstr\u001b[0m\u001b[0;34m(\u001b[0m\u001b[0mpy_operation_name\u001b[0m\u001b[0;34m)\u001b[0m\u001b[0;34m\u001b[0m\u001b[0;34m\u001b[0m\u001b[0m\n",
      "\u001b[0;32m~/anaconda3/envs/amazonei_mxnet_p36/lib/python3.6/site-packages/botocore/client.py\u001b[0m in \u001b[0;36m_make_api_call\u001b[0;34m(self, operation_name, api_params)\u001b[0m\n\u001b[1;32m    654\u001b[0m             \u001b[0merror_code\u001b[0m \u001b[0;34m=\u001b[0m \u001b[0mparsed_response\u001b[0m\u001b[0;34m.\u001b[0m\u001b[0mget\u001b[0m\u001b[0;34m(\u001b[0m\u001b[0;34m\"Error\"\u001b[0m\u001b[0;34m,\u001b[0m \u001b[0;34m{\u001b[0m\u001b[0;34m}\u001b[0m\u001b[0;34m)\u001b[0m\u001b[0;34m.\u001b[0m\u001b[0mget\u001b[0m\u001b[0;34m(\u001b[0m\u001b[0;34m\"Code\"\u001b[0m\u001b[0;34m)\u001b[0m\u001b[0;34m\u001b[0m\u001b[0;34m\u001b[0m\u001b[0m\n\u001b[1;32m    655\u001b[0m             \u001b[0merror_class\u001b[0m \u001b[0;34m=\u001b[0m \u001b[0mself\u001b[0m\u001b[0;34m.\u001b[0m\u001b[0mexceptions\u001b[0m\u001b[0;34m.\u001b[0m\u001b[0mfrom_code\u001b[0m\u001b[0;34m(\u001b[0m\u001b[0merror_code\u001b[0m\u001b[0;34m)\u001b[0m\u001b[0;34m\u001b[0m\u001b[0;34m\u001b[0m\u001b[0m\n\u001b[0;32m--> 656\u001b[0;31m             \u001b[0;32mraise\u001b[0m \u001b[0merror_class\u001b[0m\u001b[0;34m(\u001b[0m\u001b[0mparsed_response\u001b[0m\u001b[0;34m,\u001b[0m \u001b[0moperation_name\u001b[0m\u001b[0;34m)\u001b[0m\u001b[0;34m\u001b[0m\u001b[0;34m\u001b[0m\u001b[0m\n\u001b[0m\u001b[1;32m    657\u001b[0m         \u001b[0;32melse\u001b[0m\u001b[0;34m:\u001b[0m\u001b[0;34m\u001b[0m\u001b[0;34m\u001b[0m\u001b[0m\n\u001b[1;32m    658\u001b[0m             \u001b[0;32mreturn\u001b[0m \u001b[0mparsed_response\u001b[0m\u001b[0;34m\u001b[0m\u001b[0;34m\u001b[0m\u001b[0m\n",
      "\u001b[0;31mValidationError\u001b[0m: An error occurred (ValidationError) when calling the InvokeEndpoint operation: Endpoint fish614-ep-2020-10-12-06-36-12 of account 137149936888 not found."
     ]
    }
   ],
   "source": [
    "for test_image in test_images:\n",
    "    result = get_predictions_for_img(runtime_client, endpoint_name, test_image)\n",
    "    confidence_threshold = .6    # feel free to change threshold and best_n\n",
    "    best_n = 5\n",
    "    # display the best n predictions with confidence > confidence_threshold\n",
    "    # print(result)\n",
    "    predictions = [prediction for prediction in result['prediction'] if prediction[1] > confidence_threshold]\n",
    "    print('\\n',predictions)\n",
    "    predictions.sort(reverse=True, key = lambda x: x[1])\n",
    "    bboxes = [prediction_to_bbox_data(test_image, prediction) for prediction in predictions[:best_n]]\n",
    "    # print(bboxes)\n",
    "    show_annotated_image(test_image, bboxes)"
   ]
  },
  {
   "cell_type": "markdown",
   "metadata": {},
   "source": [
    "<a name='model_tuning'></a>\n",
    "## Model Tuning\n",
    "\n",
    "When you configured the training job you needed to add many hyperparameters that affect the performance of the algorithm and the quality of the resulting model. But how do you pick the right hyperparameters?\n",
    "\n",
    "If you have experience with the specific algorithm and understand the innerworkings of it, you may already have a good sense of appropriate values. But even then, it's impossible to know the exact best value of each hyperparameter. Often you can zero in on the best values by trying many different combination of values, effectively searching in the hyperparameter space. SageMaker makes this extremely easy with the Model Tuning feature, also known as Hyperparameter Optimization (or HPO). With Model Tuning you simply decide which of the hyperparameters you are not sure about and specify the range of values for each that SageMaker needs to explore. Let's see again how this can be accomplished via the console.\n"
   ]
  },
  {
   "cell_type": "markdown",
   "metadata": {},
   "source": [
    "<a name='cleanup'></a>\n",
    "## Cleanup\n",
    "\n",
    "At the end of the lab we would like to delete the real-time endpoint, as keeping a real-time endpoint around while being idle is costly and wasteful. "
   ]
  },
  {
   "cell_type": "code",
   "execution_count": 48,
   "metadata": {},
   "outputs": [
    {
     "data": {
      "text/plain": [
       "{'ResponseMetadata': {'RequestId': '548b6651-c5f7-4421-b94e-e10ec0d8abc4',\n",
       "  'HTTPStatusCode': 200,\n",
       "  'HTTPHeaders': {'x-amzn-requestid': '548b6651-c5f7-4421-b94e-e10ec0d8abc4',\n",
       "   'content-type': 'application/x-amz-json-1.1',\n",
       "   'content-length': '0',\n",
       "   'date': 'Mon, 12 Oct 2020 06:51:04 GMT'},\n",
       "  'RetryAttempts': 0}}"
      ]
     },
     "execution_count": 48,
     "metadata": {},
     "output_type": "execute_result"
    }
   ],
   "source": [
    "client.delete_endpoint(EndpointName=endpoint_name)"
   ]
  },
  {
   "cell_type": "markdown",
   "metadata": {},
   "source": [
    "# Convert the model to a deeplens deployable model\n",
    "Go to the train model and find out the Model data location\n",
    "\n",
    "When deploying an Amazon SageMaker-trained SSD model, you must first run deploy.py (available from https://github.com/chenjunweii/mxnet-ssd) to convert the model artifact into a deployable mode. After cloning or downloading the MXNet repository, run the git reset command before calling deploy.py to convert the model, if the latest version does not work.\n"
   ]
  },
  {
   "cell_type": "code",
   "execution_count": 35,
   "metadata": {},
   "outputs": [],
   "source": [
    "# Remember to change the prefix!\n",
    "BUCKET_AND_PREFIX = \"s3://deeplens-sagemaker-experiment/input/training/output/fish614/output\"\n",
    "NUM_CLASSES = 1 ### We have 1 class here\n",
    "TARGET_PREFIX = \"s3://deeplens-sagemaker-experiment/deploy-output\""
   ]
  },
  {
   "cell_type": "code",
   "execution_count": 36,
   "metadata": {},
   "outputs": [
    {
     "name": "stdout",
     "output_type": "stream",
     "text": [
      "download: s3://deeplens-sagemaker-experiment/input/training/output/fish614/output/model.tar.gz to tmp/model.tar.gz\n",
      "-rw-r--r-- 1 ec2-user ec2-user       673 Oct 12 06:10 tmp/hyperparams.json\n",
      "-rw-r--r-- 1 ec2-user ec2-user 109336812 Oct 12 06:10 tmp/model_algo_1-0000.params\n",
      "-rw-r--r-- 1 ec2-user ec2-user    132701 Oct 12 06:10 tmp/model_algo_1-symbol.json\n",
      "-rw-rw-r-- 1 ec2-user ec2-user 101468168 Oct 12 06:11 tmp/model.tar.gz\n"
     ]
    }
   ],
   "source": [
    "!rm -rf ./tmp && mkdir ./tmp\n",
    "!aws s3 cp $BUCKET_AND_PREFIX/model.tar.gz ./tmp       #Download the model here for conversion\n",
    "!gunzip -c tmp/model.tar.gz | tar -C tmp -xopf -\n",
    "!ls -l tmp/*"
   ]
  },
  {
   "cell_type": "code",
   "execution_count": 37,
   "metadata": {},
   "outputs": [],
   "source": [
    "!mv tmp/*-0000.params ./tmp/ssd_resnet50_300-0000.params\n",
    "!mv tmp/*-symbol.json ./tmp/ssd_resnet50_300-symbol.json"
   ]
  },
  {
   "cell_type": "code",
   "execution_count": 38,
   "metadata": {},
   "outputs": [
    {
     "name": "stdout",
     "output_type": "stream",
     "text": [
      "-rw-r--r-- 1 ec2-user ec2-user       673 Oct 12 06:10 tmp/hyperparams.json\r\n",
      "-rw-rw-r-- 1 ec2-user ec2-user 101468168 Oct 12 06:11 tmp/model.tar.gz\r\n",
      "-rw-r--r-- 1 ec2-user ec2-user 109336812 Oct 12 06:10 tmp/ssd_resnet50_300-0000.params\r\n",
      "-rw-r--r-- 1 ec2-user ec2-user    132701 Oct 12 06:10 tmp/ssd_resnet50_300-symbol.json\r\n"
     ]
    }
   ],
   "source": [
    "!ls -l tmp/*"
   ]
  },
  {
   "cell_type": "code",
   "execution_count": 39,
   "metadata": {},
   "outputs": [
    {
     "name": "stdout",
     "output_type": "stream",
     "text": [
      "fatal: You must specify a repository to clone.\r\n",
      "\r\n",
      "usage: git clone [<options>] [--] <repo> [<dir>]\r\n",
      "\r\n",
      "    -v, --verbose         be more verbose\r\n",
      "    -q, --quiet           be more quiet\r\n",
      "    --progress            force progress reporting\r\n",
      "    -n, --no-checkout     don't create a checkout\r\n",
      "    --bare                create a bare repository\r\n",
      "    --mirror              create a mirror repository (implies bare)\r\n",
      "    -l, --local           to clone from a local repository\r\n",
      "    --no-hardlinks        don't use local hardlinks, always copy\r\n",
      "    -s, --shared          setup as shared repository\r\n",
      "    --recurse-submodules[=<pathspec>]\r\n",
      "                          initialize submodules in the clone\r\n",
      "    -j, --jobs <n>        number of submodules cloned in parallel\r\n",
      "    --template <template-directory>\r\n",
      "                          directory from which templates will be used\r\n",
      "    --reference <repo>    reference repository\r\n",
      "    --reference-if-able <repo>\r\n",
      "                          reference repository\r\n",
      "    --dissociate          use --reference only while cloning\r\n",
      "    -o, --origin <name>   use <name> instead of 'origin' to track upstream\r\n",
      "    -b, --branch <branch>\r\n",
      "                          checkout <branch> instead of the remote's HEAD\r\n",
      "    -u, --upload-pack <path>\r\n",
      "                          path to git-upload-pack on the remote\r\n",
      "    --depth <depth>       create a shallow clone of that depth\r\n",
      "    --shallow-since <time>\r\n",
      "                          create a shallow clone since a specific time\r\n",
      "    --shallow-exclude <revision>\r\n",
      "                          deepen history of shallow clone, excluding rev\r\n",
      "    --single-branch       clone only one branch, HEAD or --branch\r\n",
      "    --no-tags             don't clone any tags, and make later fetches not to follow them\r\n",
      "    --shallow-submodules  any cloned submodules will be shallow\r\n",
      "    --separate-git-dir <gitdir>\r\n",
      "                          separate git dir from working tree\r\n",
      "    -c, --config <key=value>\r\n",
      "                          set config inside the new repository\r\n",
      "    -4, --ipv4            use IPv4 addresses only\r\n",
      "    -6, --ipv6            use IPv6 addresses only\r\n",
      "    --filter <args>       object filtering\r\n",
      "\r\n"
     ]
    }
   ],
   "source": [
    "rm -rf ./mxnet-ssd* && git clone"
   ]
  },
  {
   "cell_type": "code",
   "execution_count": 40,
   "metadata": {},
   "outputs": [
    {
     "name": "stdout",
     "output_type": "stream",
     "text": [
      "Cloning into 'mxnet-ssd'...\n",
      "remote: Enumerating objects: 106, done.\u001b[K\n",
      "remote: Total 106 (delta 0), reused 0 (delta 0), pack-reused 106\u001b[K\n",
      "Receiving objects: 100% (106/106), 4.31 MiB | 14.53 MiB/s, done.\n",
      "Resolving deltas: 100% (29/29), done.\n"
     ]
    }
   ],
   "source": [
    "!git clone https://github.com/chenjunweii/mxnet-ssd"
   ]
  },
  {
   "cell_type": "markdown",
   "metadata": {},
   "source": [
    "# open a new terminal in this node instance"
   ]
  },
  {
   "cell_type": "code",
   "execution_count": 41,
   "metadata": {},
   "outputs": [
    {
     "name": "stdout",
     "output_type": "stream",
     "text": [
      "Collecting MXNet\n",
      "  Downloading mxnet-1.7.0.post1-py2.py3-none-manylinux2014_x86_64.whl (55.0 MB)\n",
      "\u001b[K     |████████████████████████████████| 55.0 MB 59 kB/s  eta 0:00:01\n",
      "\u001b[?25hRequirement already satisfied: numpy<2.0.0,>1.16.0 in /home/ec2-user/anaconda3/envs/amazonei_mxnet_p36/lib/python3.6/site-packages (from MXNet) (1.18.1)\n",
      "Requirement already satisfied: graphviz<0.9.0,>=0.8.1 in /home/ec2-user/anaconda3/envs/amazonei_mxnet_p36/lib/python3.6/site-packages (from MXNet) (0.8.4)\n",
      "Requirement already satisfied: requests<3,>=2.20.0 in /home/ec2-user/anaconda3/envs/amazonei_mxnet_p36/lib/python3.6/site-packages (from MXNet) (2.22.0)\n",
      "Requirement already satisfied: chardet<3.1.0,>=3.0.2 in /home/ec2-user/anaconda3/envs/amazonei_mxnet_p36/lib/python3.6/site-packages (from requests<3,>=2.20.0->MXNet) (3.0.4)\n",
      "Requirement already satisfied: urllib3!=1.25.0,!=1.25.1,<1.26,>=1.21.1 in /home/ec2-user/anaconda3/envs/amazonei_mxnet_p36/lib/python3.6/site-packages (from requests<3,>=2.20.0->MXNet) (1.25.8)\n",
      "Requirement already satisfied: certifi>=2017.4.17 in /home/ec2-user/anaconda3/envs/amazonei_mxnet_p36/lib/python3.6/site-packages (from requests<3,>=2.20.0->MXNet) (2020.6.20)\n",
      "Requirement already satisfied: idna<2.9,>=2.5 in /home/ec2-user/anaconda3/envs/amazonei_mxnet_p36/lib/python3.6/site-packages (from requests<3,>=2.20.0->MXNet) (2.8)\n",
      "Installing collected packages: MXNet\n",
      "Successfully installed MXNet-1.7.0.post1\n"
     ]
    }
   ],
   "source": [
    "!pip install MXNet ##make sure MXNet install in the environment"
   ]
  },
  {
   "cell_type": "code",
   "execution_count": 42,
   "metadata": {
    "scrolled": true
   },
   "outputs": [
    {
     "name": "stdout",
     "output_type": "stream",
     "text": [
      "out :  <Symbol detection>\n",
      "[06:49:26] src/nnvm/legacy_json_util.cc:209: Loading symbol saved by previous version v1.4.1. Attempting to upgrade...\n",
      "[06:49:26] src/nnvm/legacy_json_util.cc:217: Symbol successfully upgraded!\n",
      "Saved model: tmp/deploy_ssd_resnet50_300-0000.params\n",
      "Saved symbol: tmp/deploy_ssd_resnet50_300-symbol.json\n"
     ]
    }
   ],
   "source": [
    "!python ./mxnet-ssd/deploy.py --network resnet50 \\\n",
    "  --data-shape 300 --num-class 1 --prefix tmp/ssd_ ##Image-shape is 300, the number of class is 1"
   ]
  },
  {
   "cell_type": "markdown",
   "metadata": {},
   "source": [
    "## If you see message \"python: can't open file './incubator-mxnet/example/ssd/deploy.py': [Errno 2] No such file or directory\".You will need to run git reset."
   ]
  },
  {
   "cell_type": "code",
   "execution_count": 43,
   "metadata": {},
   "outputs": [
    {
     "name": "stdout",
     "output_type": "stream",
     "text": [
      "deploy_ssd_resnet50_300-0000.params  hyperparams.json\r\n",
      "deploy_ssd_resnet50_300-symbol.json\r\n"
     ]
    }
   ],
   "source": [
    "!rm tmp/ssd_*  &&  rm tmp/model.tar.gz && ls tmp"
   ]
  },
  {
   "cell_type": "code",
   "execution_count": 44,
   "metadata": {},
   "outputs": [
    {
     "name": "stdout",
     "output_type": "stream",
     "text": [
      "./deploy_ssd_resnet50_300-0000.params\n",
      "./deploy_ssd_resnet50_300-symbol.json\n",
      "./hyperparams.json\n"
     ]
    }
   ],
   "source": [
    "!tar -cvzf ./patched_model.tar.gz -C tmp \\\n",
    "  ./deploy_ssd_resnet50_300-0000.params \\\n",
    "  ./deploy_ssd_resnet50_300-symbol.json \\\n",
    "  ./hyperparams.json"
   ]
  },
  {
   "cell_type": "code",
   "execution_count": 45,
   "metadata": {},
   "outputs": [
    {
     "name": "stdout",
     "output_type": "stream",
     "text": [
      "upload: ./patched_model.tar.gz to s3://deeplens-sagemaker-experiment/deploy-output/patched_model.tar.gz\n"
     ]
    }
   ],
   "source": [
    "!aws s3 cp patched_model.tar.gz $TARGET_PREFIX/"
   ]
  },
  {
   "cell_type": "code",
   "execution_count": 46,
   "metadata": {},
   "outputs": [],
   "source": [
    "!rm -rf tmp\n",
    "!rm *.gz"
   ]
  },
  {
   "cell_type": "markdown",
   "metadata": {},
   "source": [
    "# Optimize the model from your AWS Lambda function on AWS DeepLens\n",
    "An AWS DeepLens project consists of a trained model and an AWS Lambda function. Using AWS IoT Greengrass on the AWS DeepLens, the inference Lambda function performs three important functions:\n",
    "\n",
    "It captures the image from a video stream.\n",
    "It performs an inference using that image against the deployed machine learning model.\n",
    "It provides the results to both AWS IoT and the output video stream.\n",
    "AWS IoT Greengrass lets you execute AWS Lambda functions locally, reducing the complexity of developing embedded software. For details on creating and publishing your inference Lambda function, see this documentation.\n",
    "\n",
    "When using a custom object detection model produced by Amazon SageMaker, there is an additional step in your AWS DeepLens inference Lambda function. The inference function needs to call MXNet’s model optimizer before performing any inference using your model. Here is the Python code for optimizing and loading the model:"
   ]
  },
  {
   "cell_type": "markdown",
   "metadata": {},
   "source": [
    "This should be in Lambda Function\n",
    "\n",
    "##ret, model_path = mo.optimize('deploy_ssd_resnet50_300',input_width, input_height)\n",
    "##model = awscam.Model(model_path, {'GPU': 1})"
   ]
  },
  {
   "cell_type": "markdown",
   "metadata": {},
   "source": [
    " output map need to adjust to below classes.\n",
    "        \n",
    "        output_map = {0:'fish'}\n",
    "        \n",
    "The \"deploy_ssd_resnet50_300\" is the one we converted to. The image sharpe is 300, the frame height and width also need to be 300.\n",
    "\n",
    "        # The height and width of the training set images\n",
    "        input_height = 300\n",
    "        input_width = 300\n",
    "        \n",
    "        # optimize the model\n",
    "        client.publish(topic=iot_topic, payload='Optimizing model...')\n",
    "        ret, model_path = mo.optimize('deploy_ssd_resnet50_300', input_width, input_height)\n",
    "        #model_path = '/opt/awscam/artifacts/mxnet_deploy_ssd_resnet50_300_FP16_FUSED.xml'\n",
    "        \n",
    "        # Load the model onto the GPU.\n",
    "        client.publish(topic=iot_topic, payload='Loading object detection model')\n",
    "        model = awscam.Model(model_path, {'GPU': 1})\n",
    "        client.publish(topic=iot_topic, payload='Object detection model loaded')\n",
    "        \n",
    "        # Set the threshold for detection\n",
    "        detection_threshold = 0.60\n",
    "        \n",
    "\n",
    "        "
   ]
  },
  {
   "cell_type": "markdown",
   "metadata": {},
   "source": [
    "# After fixed the lambda function, import the model from s3 to deeplens, use the Lambda function and update the version. Deploy to node.\n",
    "\n",
    "It is expected to see IOT console mqtt messsage \"Optimizing model...\" 'Loading object detection model''Object detection model loaded'.\n",
    "\n",
    "In addition, you can change the detection_threshold for better outcome."
   ]
  }
 ],
 "metadata": {
  "kernelspec": {
   "display_name": "conda_amazonei_mxnet_p36",
   "language": "python",
   "name": "conda_amazonei_mxnet_p36"
  },
  "language_info": {
   "codemirror_mode": {
    "name": "ipython",
    "version": 3
   },
   "file_extension": ".py",
   "mimetype": "text/x-python",
   "name": "python",
   "nbconvert_exporter": "python",
   "pygments_lexer": "ipython3",
   "version": "3.6.10"
  }
 },
 "nbformat": 4,
 "nbformat_minor": 4
}
